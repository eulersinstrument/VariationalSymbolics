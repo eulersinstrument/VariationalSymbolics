{
 "cells": [
  {
   "cell_type": "code",
   "execution_count": 15,
   "id": "ee9009b7",
   "metadata": {},
   "outputs": [
    {
     "name": "stdout",
     "output_type": "stream",
     "text": [
      "The autoreload extension is already loaded. To reload it, use:\n",
      "  %reload_ext autoreload\n"
     ]
    }
   ],
   "source": [
    "import sympy as sym \n",
    "import numpy as np\n",
    "import control as ct\n",
    "from sympy import symbols, Matrix, cos, sin\n",
    "from sympy.physics.mechanics import dynamicsymbols\n",
    "from holonomic_sys import Holonomic_System\n",
    "import control as ct\n",
    "\n",
    "%load_ext autoreload\n",
    "%autoreload 2"
   ]
  },
  {
   "cell_type": "markdown",
   "id": "32682eb5",
   "metadata": {},
   "source": [
    "# Automated Lagrangian Workflow for a Triple Pendulum\n",
    "\n",
    "This notebook provides an example of the structured and streamline approach I developed for deriving the dynamics and control matrices, A and B respectively, for holonomic systems. This was motivated by a larger project of mine: controlling the inverted n-pendulum attached to a driven cart. I found deriving the equations of motion for this system, by hand, intractable for anything over two pendulum bobs. By the time I created a system for deriving and linearizing the equations of motion of the inverted n-pendulum, I realized that it could be used for any holonomic system. \n",
    "\n",
    "This notebook structure is as follows:\n",
    "1. **Defining the Inverted Three Pendulum System**: Establishing generalized coordinates, constraints, and forces.\n",
    "2. **Deriving the Equations of Motion**: Initializing the 3_pendulum object and computationally deriving the equations of motion\n",
    "3. **Obtaining A and B** "
   ]
  },
  {
   "cell_type": "markdown",
   "id": "ab13e053",
   "metadata": {},
   "source": [
    "## 1. System Definition\n",
    "\n",
    "We consider the inverted 3-pendulum attached to a cart constrained to move along the x-axis (shown below). The pendulums are confined to rotate in the x-z plane and the constraints are assumed to perform no work. \n",
    "\n",
    "### Generalized Coordinates\n",
    "- $\\theta_1$: Angle of the first pendulum.\n",
    "- $\\theta_2$: Angle of the second pendulum.\n",
    "- $\\theta_3$: Angle of the third pendulum.\n",
    "- x: displacement of the cart from the origin (along the x axis) \n",
    "\n",
    "This system has 4 degrees of freedom, and the conversion of the generalized coordinates to cartesian coordinates is given by the following function, phi. (ie phi: generalized_coordinates -> cartesian coordinates )"
   ]
  },
  {
   "cell_type": "markdown",
   "id": "bf5c9472",
   "metadata": {},
   "source": [
    "![Inverted Three Pendulum](3_pend.jpeg)"
   ]
  },
  {
   "cell_type": "code",
   "execution_count": 18,
   "id": "dafc3239",
   "metadata": {},
   "outputs": [
    {
     "data": {
      "text/latex": [
       "$\\displaystyle \\left[\\begin{matrix}x{\\left(t \\right)}\\\\l_{1} \\sin{\\left(\\theta_{1}{\\left(t \\right)} \\right)} + x{\\left(t \\right)}\\\\l_{1} \\sin{\\left(\\theta_{1}{\\left(t \\right)} \\right)} + l_{2} \\sin{\\left(\\theta_{2}{\\left(t \\right)} \\right)} + x{\\left(t \\right)}\\\\l_{1} \\sin{\\left(\\theta_{1}{\\left(t \\right)} \\right)} + l_{2} \\sin{\\left(\\theta_{2}{\\left(t \\right)} \\right)} + l_{3} \\sin{\\left(\\theta_{3}{\\left(t \\right)} \\right)} + x{\\left(t \\right)}\\\\0\\\\0\\\\0\\\\0\\\\0\\\\l_{1} \\cos{\\left(\\theta_{1}{\\left(t \\right)} \\right)}\\\\l_{1} \\cos{\\left(\\theta_{1}{\\left(t \\right)} \\right)} + l_{2} \\cos{\\left(\\theta_{2}{\\left(t \\right)} \\right)}\\\\l_{1} \\cos{\\left(\\theta_{1}{\\left(t \\right)} \\right)} + l_{2} \\cos{\\left(\\theta_{2}{\\left(t \\right)} \\right)} + l_{3} \\cos{\\left(\\theta_{3}{\\left(t \\right)} \\right)}\\end{matrix}\\right]$"
      ],
      "text/plain": [
       "Matrix([\n",
       "[                                                            x(t)],\n",
       "[                                        l1*sin(theta1(t)) + x(t)],\n",
       "[                    l1*sin(theta1(t)) + l2*sin(theta2(t)) + x(t)],\n",
       "[l1*sin(theta1(t)) + l2*sin(theta2(t)) + l3*sin(theta3(t)) + x(t)],\n",
       "[                                                               0],\n",
       "[                                                               0],\n",
       "[                                                               0],\n",
       "[                                                               0],\n",
       "[                                                               0],\n",
       "[                                               l1*cos(theta1(t))],\n",
       "[                           l1*cos(theta1(t)) + l2*cos(theta2(t))],\n",
       "[       l1*cos(theta1(t)) + l2*cos(theta2(t)) + l3*cos(theta3(t))]])"
      ]
     },
     "execution_count": 18,
     "metadata": {},
     "output_type": "execute_result"
    }
   ],
   "source": [
    "#defining masses, lengths and constraints\n",
    "n = 3\n",
    "\n",
    "m = Matrix(symbols(f\"m0:{n+1}\")) \n",
    "l = Matrix(symbols(f\"l1:{n+1}\"))\n",
    "q = Matrix(\n",
    "    [dynamicsymbols(\"x\")] + dynamicsymbols(f\"theta1:{n+1}\")\n",
    ")\n",
    "\n",
    "\n",
    "x = dynamicsymbols(f\"x0:{n+1}\")\n",
    "y = dynamicsymbols(f\"y0:{n+1}\")\n",
    "z = dynamicsymbols(f\"z0:{n+1}\")\n",
    "cart_coor = Matrix([*x,*y,*z])\n",
    "\n",
    "def phi(q):\n",
    "    x= [q[0]]\n",
    "    y= [0]\n",
    "    z= [0]\n",
    "    for i in range(1,n+1):\n",
    "        x.append(x[i-1]+ l[i-1]*sin(q[i]))\n",
    "        y.append(0) #encodes that the system is confined to the x-z plane\n",
    "        z.append(z[i-1]+ l[i-1]*cos(q[i]))\n",
    "        \n",
    "\n",
    "    return sym.Matrix(x+y+z)\n",
    "\n",
    "#provides the conversion from (x, theta1, theta2, theta3) -> cartesian coordinates (with the structure x's, y's, and then z's)\n",
    "#this implicitly defines the constraints on the system\n",
    "phi(q) "
   ]
  },
  {
   "cell_type": "code",
   "execution_count": 19,
   "id": "8d6732a8",
   "metadata": {},
   "outputs": [
    {
     "data": {
      "text/latex": [
       "$\\displaystyle \\left[\\begin{matrix}u{\\left(t \\right)} & 0 & 0\\\\0 & 0 & - g m_{1}\\\\0 & 0 & - g m_{2}\\\\0 & 0 & - g m_{3}\\end{matrix}\\right]$"
      ],
      "text/plain": [
       "Matrix([\n",
       "[u(t), 0,     0],\n",
       "[   0, 0, -g*m1],\n",
       "[   0, 0, -g*m2],\n",
       "[   0, 0, -g*m3]])"
      ]
     },
     "execution_count": 19,
     "metadata": {},
     "output_type": "execute_result"
    }
   ],
   "source": [
    "#gravitational and driving forces\n",
    "\n",
    "u = Matrix([dynamicsymbols(\"u\")]) #control input\n",
    "g = symbols(\"g\") #gravitational constant\n",
    "\n",
    "f_cart = sym.Matrix([\n",
    "    [0, 0,-m[i]*g] for i in range(1,n+1)\n",
    "]).row_insert(0, Matrix([u[0],0,0]).T) #encodes the forcing term on the cart\n",
    "#it is not necessary to include the gravitational force on the cart, since it is confined to z = 0\n",
    "\n",
    "u = Matrix([u])\n",
    "\n",
    "f_cart #note that the ith row corresponds to the force on the ith point mass"
   ]
  },
  {
   "cell_type": "markdown",
   "id": "70406959",
   "metadata": {},
   "source": [
    "## 2. Deriving the Equations of Motion\n",
    "\n"
   ]
  },
  {
   "cell_type": "code",
   "execution_count": 20,
   "id": "6c6fce6e",
   "metadata": {},
   "outputs": [],
   "source": [
    "inv_three_pendulum = Holonomic_System(\n",
    "    f_cart,\n",
    "    m,\n",
    "    q, \n",
    "    cart_coor,\n",
    "    u,\n",
    "    phi\n",
    ") "
   ]
  },
  {
   "cell_type": "code",
   "execution_count": 28,
   "id": "7e93d857",
   "metadata": {},
   "outputs": [
    {
     "data": {
      "text/latex": [
       "$\\displaystyle \\left[\\begin{matrix}1.0 m_{0} \\frac{d^{2}}{d t^{2}} x{\\left(t \\right)} + 1.0 m_{1} \\left(- l_{1} \\sin{\\left(\\theta_{1}{\\left(t \\right)} \\right)} \\left(\\frac{d}{d t} \\theta_{1}{\\left(t \\right)}\\right)^{2} + l_{1} \\cos{\\left(\\theta_{1}{\\left(t \\right)} \\right)} \\frac{d^{2}}{d t^{2}} \\theta_{1}{\\left(t \\right)} + \\frac{d^{2}}{d t^{2}} x{\\left(t \\right)}\\right) + 1.0 m_{2} \\left(- l_{1} \\sin{\\left(\\theta_{1}{\\left(t \\right)} \\right)} \\left(\\frac{d}{d t} \\theta_{1}{\\left(t \\right)}\\right)^{2} + l_{1} \\cos{\\left(\\theta_{1}{\\left(t \\right)} \\right)} \\frac{d^{2}}{d t^{2}} \\theta_{1}{\\left(t \\right)} - l_{2} \\sin{\\left(\\theta_{2}{\\left(t \\right)} \\right)} \\left(\\frac{d}{d t} \\theta_{2}{\\left(t \\right)}\\right)^{2} + l_{2} \\cos{\\left(\\theta_{2}{\\left(t \\right)} \\right)} \\frac{d^{2}}{d t^{2}} \\theta_{2}{\\left(t \\right)} + \\frac{d^{2}}{d t^{2}} x{\\left(t \\right)}\\right) + 1.0 m_{3} \\left(- l_{1} \\sin{\\left(\\theta_{1}{\\left(t \\right)} \\right)} \\left(\\frac{d}{d t} \\theta_{1}{\\left(t \\right)}\\right)^{2} + l_{1} \\cos{\\left(\\theta_{1}{\\left(t \\right)} \\right)} \\frac{d^{2}}{d t^{2}} \\theta_{1}{\\left(t \\right)} - l_{2} \\sin{\\left(\\theta_{2}{\\left(t \\right)} \\right)} \\left(\\frac{d}{d t} \\theta_{2}{\\left(t \\right)}\\right)^{2} + l_{2} \\cos{\\left(\\theta_{2}{\\left(t \\right)} \\right)} \\frac{d^{2}}{d t^{2}} \\theta_{2}{\\left(t \\right)} - l_{3} \\sin{\\left(\\theta_{3}{\\left(t \\right)} \\right)} \\left(\\frac{d}{d t} \\theta_{3}{\\left(t \\right)}\\right)^{2} + l_{3} \\cos{\\left(\\theta_{3}{\\left(t \\right)} \\right)} \\frac{d^{2}}{d t^{2}} \\theta_{3}{\\left(t \\right)} + \\frac{d^{2}}{d t^{2}} x{\\left(t \\right)}\\right) - u{\\left(t \\right)} & 1.0 l_{1} \\left(- g m_{1} \\sin{\\left(\\theta_{1}{\\left(t \\right)} \\right)} - g m_{2} \\sin{\\left(\\theta_{1}{\\left(t \\right)} \\right)} - g m_{3} \\sin{\\left(\\theta_{1}{\\left(t \\right)} \\right)} + l_{1} m_{1} \\frac{d^{2}}{d t^{2}} \\theta_{1}{\\left(t \\right)} + l_{1} m_{2} \\frac{d^{2}}{d t^{2}} \\theta_{1}{\\left(t \\right)} + l_{1} m_{3} \\frac{d^{2}}{d t^{2}} \\theta_{1}{\\left(t \\right)} + l_{2} m_{2} \\sin{\\left(\\theta_{1}{\\left(t \\right)} - \\theta_{2}{\\left(t \\right)} \\right)} \\left(\\frac{d}{d t} \\theta_{2}{\\left(t \\right)}\\right)^{2} + l_{2} m_{2} \\cos{\\left(\\theta_{1}{\\left(t \\right)} - \\theta_{2}{\\left(t \\right)} \\right)} \\frac{d^{2}}{d t^{2}} \\theta_{2}{\\left(t \\right)} + l_{2} m_{3} \\sin{\\left(\\theta_{1}{\\left(t \\right)} - \\theta_{2}{\\left(t \\right)} \\right)} \\left(\\frac{d}{d t} \\theta_{2}{\\left(t \\right)}\\right)^{2} + l_{2} m_{3} \\cos{\\left(\\theta_{1}{\\left(t \\right)} - \\theta_{2}{\\left(t \\right)} \\right)} \\frac{d^{2}}{d t^{2}} \\theta_{2}{\\left(t \\right)} + l_{3} m_{3} \\sin{\\left(\\theta_{1}{\\left(t \\right)} - \\theta_{3}{\\left(t \\right)} \\right)} \\left(\\frac{d}{d t} \\theta_{3}{\\left(t \\right)}\\right)^{2} + l_{3} m_{3} \\cos{\\left(\\theta_{1}{\\left(t \\right)} - \\theta_{3}{\\left(t \\right)} \\right)} \\frac{d^{2}}{d t^{2}} \\theta_{3}{\\left(t \\right)} + m_{1} \\cos{\\left(\\theta_{1}{\\left(t \\right)} \\right)} \\frac{d^{2}}{d t^{2}} x{\\left(t \\right)} + m_{2} \\cos{\\left(\\theta_{1}{\\left(t \\right)} \\right)} \\frac{d^{2}}{d t^{2}} x{\\left(t \\right)} + m_{3} \\cos{\\left(\\theta_{1}{\\left(t \\right)} \\right)} \\frac{d^{2}}{d t^{2}} x{\\left(t \\right)}\\right) & 1.0 l_{2} \\left(- g m_{2} \\sin{\\left(\\theta_{2}{\\left(t \\right)} \\right)} - g m_{3} \\sin{\\left(\\theta_{2}{\\left(t \\right)} \\right)} - l_{1} m_{2} \\sin{\\left(\\theta_{1}{\\left(t \\right)} - \\theta_{2}{\\left(t \\right)} \\right)} \\left(\\frac{d}{d t} \\theta_{1}{\\left(t \\right)}\\right)^{2} + l_{1} m_{2} \\cos{\\left(\\theta_{1}{\\left(t \\right)} - \\theta_{2}{\\left(t \\right)} \\right)} \\frac{d^{2}}{d t^{2}} \\theta_{1}{\\left(t \\right)} - l_{1} m_{3} \\sin{\\left(\\theta_{1}{\\left(t \\right)} - \\theta_{2}{\\left(t \\right)} \\right)} \\left(\\frac{d}{d t} \\theta_{1}{\\left(t \\right)}\\right)^{2} + l_{1} m_{3} \\cos{\\left(\\theta_{1}{\\left(t \\right)} - \\theta_{2}{\\left(t \\right)} \\right)} \\frac{d^{2}}{d t^{2}} \\theta_{1}{\\left(t \\right)} + l_{2} m_{2} \\frac{d^{2}}{d t^{2}} \\theta_{2}{\\left(t \\right)} + l_{2} m_{3} \\frac{d^{2}}{d t^{2}} \\theta_{2}{\\left(t \\right)} + l_{3} m_{3} \\sin{\\left(\\theta_{2}{\\left(t \\right)} - \\theta_{3}{\\left(t \\right)} \\right)} \\left(\\frac{d}{d t} \\theta_{3}{\\left(t \\right)}\\right)^{2} + l_{3} m_{3} \\cos{\\left(\\theta_{2}{\\left(t \\right)} - \\theta_{3}{\\left(t \\right)} \\right)} \\frac{d^{2}}{d t^{2}} \\theta_{3}{\\left(t \\right)} + m_{2} \\cos{\\left(\\theta_{2}{\\left(t \\right)} \\right)} \\frac{d^{2}}{d t^{2}} x{\\left(t \\right)} + m_{3} \\cos{\\left(\\theta_{2}{\\left(t \\right)} \\right)} \\frac{d^{2}}{d t^{2}} x{\\left(t \\right)}\\right) & 1.0 l_{3} m_{3} \\left(- g \\sin{\\left(\\theta_{3}{\\left(t \\right)} \\right)} - l_{1} \\sin{\\left(\\theta_{1}{\\left(t \\right)} - \\theta_{3}{\\left(t \\right)} \\right)} \\left(\\frac{d}{d t} \\theta_{1}{\\left(t \\right)}\\right)^{2} + l_{1} \\cos{\\left(\\theta_{1}{\\left(t \\right)} - \\theta_{3}{\\left(t \\right)} \\right)} \\frac{d^{2}}{d t^{2}} \\theta_{1}{\\left(t \\right)} - l_{2} \\sin{\\left(\\theta_{2}{\\left(t \\right)} - \\theta_{3}{\\left(t \\right)} \\right)} \\left(\\frac{d}{d t} \\theta_{2}{\\left(t \\right)}\\right)^{2} + l_{2} \\cos{\\left(\\theta_{2}{\\left(t \\right)} - \\theta_{3}{\\left(t \\right)} \\right)} \\frac{d^{2}}{d t^{2}} \\theta_{2}{\\left(t \\right)} + l_{3} \\frac{d^{2}}{d t^{2}} \\theta_{3}{\\left(t \\right)} + \\cos{\\left(\\theta_{3}{\\left(t \\right)} \\right)} \\frac{d^{2}}{d t^{2}} x{\\left(t \\right)}\\right)\\end{matrix}\\right]$"
      ],
      "text/plain": [
       "Matrix([[1.0*m0*Derivative(x(t), (t, 2)) + 1.0*m1*(-l1*sin(theta1(t))*Derivative(theta1(t), t)**2 + l1*cos(theta1(t))*Derivative(theta1(t), (t, 2)) + Derivative(x(t), (t, 2))) + 1.0*m2*(-l1*sin(theta1(t))*Derivative(theta1(t), t)**2 + l1*cos(theta1(t))*Derivative(theta1(t), (t, 2)) - l2*sin(theta2(t))*Derivative(theta2(t), t)**2 + l2*cos(theta2(t))*Derivative(theta2(t), (t, 2)) + Derivative(x(t), (t, 2))) + 1.0*m3*(-l1*sin(theta1(t))*Derivative(theta1(t), t)**2 + l1*cos(theta1(t))*Derivative(theta1(t), (t, 2)) - l2*sin(theta2(t))*Derivative(theta2(t), t)**2 + l2*cos(theta2(t))*Derivative(theta2(t), (t, 2)) - l3*sin(theta3(t))*Derivative(theta3(t), t)**2 + l3*cos(theta3(t))*Derivative(theta3(t), (t, 2)) + Derivative(x(t), (t, 2))) - u(t), 1.0*l1*(-g*m1*sin(theta1(t)) - g*m2*sin(theta1(t)) - g*m3*sin(theta1(t)) + l1*m1*Derivative(theta1(t), (t, 2)) + l1*m2*Derivative(theta1(t), (t, 2)) + l1*m3*Derivative(theta1(t), (t, 2)) + l2*m2*sin(theta1(t) - theta2(t))*Derivative(theta2(t), t)**2 + l2*m2*cos(theta1(t) - theta2(t))*Derivative(theta2(t), (t, 2)) + l2*m3*sin(theta1(t) - theta2(t))*Derivative(theta2(t), t)**2 + l2*m3*cos(theta1(t) - theta2(t))*Derivative(theta2(t), (t, 2)) + l3*m3*sin(theta1(t) - theta3(t))*Derivative(theta3(t), t)**2 + l3*m3*cos(theta1(t) - theta3(t))*Derivative(theta3(t), (t, 2)) + m1*cos(theta1(t))*Derivative(x(t), (t, 2)) + m2*cos(theta1(t))*Derivative(x(t), (t, 2)) + m3*cos(theta1(t))*Derivative(x(t), (t, 2))), 1.0*l2*(-g*m2*sin(theta2(t)) - g*m3*sin(theta2(t)) - l1*m2*sin(theta1(t) - theta2(t))*Derivative(theta1(t), t)**2 + l1*m2*cos(theta1(t) - theta2(t))*Derivative(theta1(t), (t, 2)) - l1*m3*sin(theta1(t) - theta2(t))*Derivative(theta1(t), t)**2 + l1*m3*cos(theta1(t) - theta2(t))*Derivative(theta1(t), (t, 2)) + l2*m2*Derivative(theta2(t), (t, 2)) + l2*m3*Derivative(theta2(t), (t, 2)) + l3*m3*sin(theta2(t) - theta3(t))*Derivative(theta3(t), t)**2 + l3*m3*cos(theta2(t) - theta3(t))*Derivative(theta3(t), (t, 2)) + m2*cos(theta2(t))*Derivative(x(t), (t, 2)) + m3*cos(theta2(t))*Derivative(x(t), (t, 2))), 1.0*l3*m3*(-g*sin(theta3(t)) - l1*sin(theta1(t) - theta3(t))*Derivative(theta1(t), t)**2 + l1*cos(theta1(t) - theta3(t))*Derivative(theta1(t), (t, 2)) - l2*sin(theta2(t) - theta3(t))*Derivative(theta2(t), t)**2 + l2*cos(theta2(t) - theta3(t))*Derivative(theta2(t), (t, 2)) + l3*Derivative(theta3(t), (t, 2)) + cos(theta3(t))*Derivative(x(t), (t, 2)))]])"
      ]
     },
     "execution_count": 28,
     "metadata": {},
     "output_type": "execute_result"
    }
   ],
   "source": [
    "#Exemplifies why you would certainly not want to do this by hand!\n",
    "inv_three_pendulum.eqs_motion"
   ]
  },
  {
   "cell_type": "markdown",
   "id": "f18a77f7",
   "metadata": {},
   "source": [
    "## 3. Obtaining A and B\n",
    "\n",
    "From the definition of the contraints, the generalized coordinates corresponding to the vertical position, as shown below, are $\\theta{}_i = 0$, $\\forall i$ and $x=$ anything. To obtain the dynamics and control matrices, call control_init, and supply a dictionary which maps each generalized coordinate to the values which the system is to be linearized about. "
   ]
  },
  {
   "cell_type": "code",
   "execution_count": 22,
   "id": "91f44a9b",
   "metadata": {},
   "outputs": [],
   "source": [
    "state0 = dict(zip(q, sym.zeros(n+1, 1)))\n",
    "A,B = inv_three_pendulum.control_init(state0)"
   ]
  },
  {
   "cell_type": "code",
   "execution_count": 23,
   "id": "11f262e7",
   "metadata": {},
   "outputs": [
    {
     "data": {
      "text/latex": [
       "$\\displaystyle \\left[\\begin{matrix}0 & 0 & 0 & 0 & 1 & 0 & 0 & 0\\\\0 & 0 & 0 & 0 & 0 & 1 & 0 & 0\\\\0 & 0 & 0 & 0 & 0 & 0 & 1 & 0\\\\0 & 0 & 0 & 0 & 0 & 0 & 0 & 1\\\\0 & \\frac{1.0 \\left(- g m_{1} - g m_{2} - g m_{3}\\right)}{m_{0}} & 0 & 0 & 0 & 0 & 0 & 0\\\\0 & \\frac{1.0 \\left(m_{0} + m_{1}\\right) \\left(g m_{1} + g m_{2} + g m_{3}\\right)}{l_{1} m_{0} m_{1}} & \\frac{1.0 \\left(- g m_{2} - g m_{3}\\right)}{l_{1} m_{1}} & 0 & 0 & 0 & 0 & 0\\\\0 & \\frac{1.0 \\left(- g m_{1} - g m_{2} - g m_{3}\\right)}{l_{2} m_{1}} & - \\frac{1.0 \\left(m_{1} + m_{2}\\right) \\left(- g m_{2} - g m_{3}\\right)}{l_{2} m_{1} m_{2}} & - \\frac{1.0 g m_{3}}{l_{2} m_{2}} & 0 & 0 & 0 & 0\\\\0 & 0 & \\frac{1.0 \\left(- g m_{2} - g m_{3}\\right)}{l_{3} m_{2}} & \\frac{1.0 g \\left(m_{2} + m_{3}\\right)}{l_{3} m_{2}} & 0 & 0 & 0 & 0\\end{matrix}\\right]$"
      ],
      "text/plain": [
       "Matrix([\n",
       "[0,                                             0,                                        0,                       0, 1, 0, 0, 0],\n",
       "[0,                                             0,                                        0,                       0, 0, 1, 0, 0],\n",
       "[0,                                             0,                                        0,                       0, 0, 0, 1, 0],\n",
       "[0,                                             0,                                        0,                       0, 0, 0, 0, 1],\n",
       "[0,                  1.0*(-g*m1 - g*m2 - g*m3)/m0,                                        0,                       0, 0, 0, 0, 0],\n",
       "[0, 1.0*(m0 + m1)*(g*m1 + g*m2 + g*m3)/(l1*m0*m1),               1.0*(-g*m2 - g*m3)/(l1*m1),                       0, 0, 0, 0, 0],\n",
       "[0,             1.0*(-g*m1 - g*m2 - g*m3)/(l2*m1), -1.0*(m1 + m2)*(-g*m2 - g*m3)/(l2*m1*m2),       -1.0*g*m3/(l2*m2), 0, 0, 0, 0],\n",
       "[0,                                             0,               1.0*(-g*m2 - g*m3)/(l3*m2), 1.0*g*(m2 + m3)/(l3*m2), 0, 0, 0, 0]])"
      ]
     },
     "execution_count": 23,
     "metadata": {},
     "output_type": "execute_result"
    }
   ],
   "source": [
    "A"
   ]
  },
  {
   "cell_type": "code",
   "execution_count": 24,
   "id": "cf166e40",
   "metadata": {},
   "outputs": [
    {
     "data": {
      "text/latex": [
       "$\\displaystyle \\left[\\begin{matrix}0\\\\0\\\\0\\\\0\\\\\\frac{1.0}{m_{0}}\\\\- \\frac{1.0}{l_{1} m_{0}}\\\\0\\\\0\\end{matrix}\\right]$"
      ],
      "text/plain": [
       "Matrix([\n",
       "[           0],\n",
       "[           0],\n",
       "[           0],\n",
       "[           0],\n",
       "[      1.0/m0],\n",
       "[-1.0/(l1*m0)],\n",
       "[           0],\n",
       "[           0]])"
      ]
     },
     "execution_count": 24,
     "metadata": {},
     "output_type": "execute_result"
    }
   ],
   "source": [
    "B"
   ]
  },
  {
   "cell_type": "code",
   "execution_count": 25,
   "id": "1054df83",
   "metadata": {},
   "outputs": [],
   "source": [
    "#testing whether the system is controllable\n",
    "\n",
    "parameters = list(m)+list(l) + [g]#masses and lengths of the pendulums\n",
    "sample_values = list(sym.ones(len(parameters)-1))+[9.8] #values chosen for simplicity\n",
    "\n",
    "parameters_to_sample_values = dict(zip(parameters, sample_values)) \n",
    "\n",
    "A_numerical = np.array(A.subs(parameters_to_sample_values), dtype= np.float32)\n",
    "B_numerical = np.array(B.subs(parameters_to_sample_values), dtype= np.float32)"
   ]
  },
  {
   "cell_type": "code",
   "execution_count": 26,
   "id": "eee7e2f8",
   "metadata": {},
   "outputs": [
    {
     "data": {
      "text/plain": [
       "np.int64(8)"
      ]
     },
     "execution_count": 26,
     "metadata": {},
     "output_type": "execute_result"
    }
   ],
   "source": [
    "#recall that the system is controllable if the controllability matrix has \n",
    "# rank = dimension of dynamics matrix\n",
    "\n",
    "np.linalg.matrix_rank(ct.ctrb(A_numerical,B_numerical))"
   ]
  },
  {
   "cell_type": "markdown",
   "id": "cf2cddc4",
   "metadata": {},
   "source": [
    "## Work Cited\n",
    "\n",
    "Refer to \"Schaum's Outlines: Lagrangian Mechanics\" (Wells) for a more in depth coverage of variational mechanics."
   ]
  }
 ],
 "metadata": {
  "kernelspec": {
   "display_name": "mathenv",
   "language": "python",
   "name": "python3"
  },
  "language_info": {
   "codemirror_mode": {
    "name": "ipython",
    "version": 3
   },
   "file_extension": ".py",
   "mimetype": "text/x-python",
   "name": "python",
   "nbconvert_exporter": "python",
   "pygments_lexer": "ipython3",
   "version": "3.13.1"
  }
 },
 "nbformat": 4,
 "nbformat_minor": 5
}
